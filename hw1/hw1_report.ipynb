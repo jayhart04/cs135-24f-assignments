{
 "cells": [
  {
   "cell_type": "markdown",
   "metadata": {},
   "source": [
    "# HW1 : Regression, Cross-Validation, and  Regularization"
   ]
  },
  {
   "cell_type": "code",
   "execution_count": 174,
   "metadata": {},
   "outputs": [],
   "source": [
    "import os\n",
    "import numpy as np\n",
    "import pandas as pd\n",
    " \n",
    "import sklearn.preprocessing\n",
    "import sklearn.pipeline\n",
    "import sklearn.linear_model"
   ]
  },
  {
   "cell_type": "code",
   "execution_count": 175,
   "metadata": {},
   "outputs": [],
   "source": [
    "from matplotlib import pyplot as plt\n",
    "\n",
    "import seaborn as sns\n",
    "#This sets the default style for all figures. \n",
    "sns.set('notebook', font_scale=1.25, style='whitegrid')"
   ]
  },
  {
   "cell_type": "markdown",
   "metadata": {},
   "source": [
    "### Configuration\n",
    "\n",
    "You may need to adjust your data directory to point towards the auto data. "
   ]
  },
  {
   "cell_type": "code",
   "execution_count": 209,
   "metadata": {},
   "outputs": [],
   "source": [
    "SEED = 12345 \n",
    "\n",
    "DATA_DIR = '/Users/student/Documents/cs135/cs135-24f-assignments/hw1/data_auto'"
   ]
  },
  {
   "cell_type": "markdown",
   "metadata": {},
   "source": [
    "# Helper Functions\n",
    "\n",
    "These notebook sections contain helper functions which you **do not need to alter**.  "
   ]
  },
  {
   "cell_type": "markdown",
   "metadata": {},
   "source": [
    "### Methods for loading dataset"
   ]
  },
  {
   "cell_type": "code",
   "execution_count": 177,
   "metadata": {},
   "outputs": [],
   "source": [
    "def load_2d_arr_from_csv(fname, include_header=False):\n",
    "    x = np.loadtxt(os.path.join(DATA_DIR, fname), delimiter=',', skiprows=1)\n",
    "    assert x.ndim == 2\n",
    "    if include_header:\n",
    "        header_cols = np.loadtxt(os.path.join(DATA_DIR, fname), delimiter=',', dtype=str)[0].tolist()\n",
    "        return x, header_cols\n",
    "    else:\n",
    "        return x\n",
    "    \n",
    "def load_1d_arr_from_csv(fname):\n",
    "    x = np.loadtxt(os.path.join(DATA_DIR, fname), delimiter=',', skiprows=1)\n",
    "    if x.ndim == 1:\n",
    "        return x\n",
    "    else:\n",
    "        raise ValueError(\"Not 1d\")"
   ]
  },
  {
   "cell_type": "markdown",
   "metadata": {},
   "source": [
    "### Plotting methods"
   ]
  },
  {
   "cell_type": "code",
   "execution_count": 178,
   "metadata": {},
   "outputs": [],
   "source": [
    "def plot_train_and_valid_error_vs_hyper(\n",
    "        hyper_list, err_tr_list=None, err_va_list=None,\n",
    "        ymax=40,\n",
    "        leg_loc='upper right',\n",
    "        xlabel='polynomial degree',\n",
    "        ylabel='RMSE'):\n",
    "    if err_va_list is not None:\n",
    "        plt.plot(hyper_list, err_va_list, 'rs-', label='valid');\n",
    "    if err_tr_list is not None:\n",
    "        plt.plot(hyper_list, err_tr_list, 'bd:', label='train');\n",
    "    plt.ylim([0, ymax]);\n",
    "    plt.legend(loc=leg_loc);\n",
    "    plt.xlabel(xlabel);\n",
    "    plt.ylabel(ylabel);"
   ]
  },
  {
   "cell_type": "markdown",
   "metadata": {},
   "source": [
    "### Method to sanitize predictions\n",
    "\n",
    "For many regression problems certain values might be impossible or improbable (such as in this case where we can't have a negative miles-per-gallon). However, most machine learning models cannot learn these types of strict rules. Thus, a common practice in ML is to **sanatize** predictions made by a model, confining them to be within reasonable bounds. \n",
    "\n",
    "Here we are predicting MPG, which should \n",
    "* (1) always be positive, and\n",
    "* (2) will probably never exceed 120% of the largest value we see in train data\n",
    "\n",
    "All model predictions should be sanitized before being used. "
   ]
  },
  {
   "cell_type": "code",
   "execution_count": 179,
   "metadata": {},
   "outputs": [],
   "source": [
    "def sanitize(yhat_N):\n",
    "    yhat_N = np.maximum(yhat_N, 0)\n",
    "    yhat_N = np.minimum(yhat_N, Y_MAX)\n",
    "    return yhat_N"
   ]
  },
  {
   "cell_type": "markdown",
   "metadata": {},
   "source": [
    "## Methods for building pipelines\n",
    "\n",
    "These are sklearn pipelines, which define a series of steps that can then be treated as if they were a single classifier.  "
   ]
  },
  {
   "cell_type": "code",
   "execution_count": 180,
   "metadata": {},
   "outputs": [],
   "source": [
    "def make_poly_linear_regr_pipeline(degree=1):\n",
    "    pipeline = sklearn.pipeline.Pipeline(\n",
    "        steps=[\n",
    "         ('rescaler', sklearn.preprocessing.MinMaxScaler()),\n",
    "         ('poly_transformer', sklearn.preprocessing.PolynomialFeatures(degree=degree, include_bias=False)),\n",
    "         ('linear_regr', sklearn.linear_model.LinearRegression()),\n",
    "        ])\n",
    "    \n",
    "    # Return the constructed pipeline\n",
    "    # We can treat it as if it has a 'regression' API\n",
    "    # e.g. a fit and a predict method\n",
    "    return pipeline"
   ]
  },
  {
   "cell_type": "code",
   "execution_count": 181,
   "metadata": {},
   "outputs": [],
   "source": [
    "def make_poly_ridge_regr_pipeline(degree=1, alpha=1.0):\n",
    "    pipeline = sklearn.pipeline.Pipeline(\n",
    "        steps=[\n",
    "         ('rescaler', sklearn.preprocessing.MinMaxScaler()),\n",
    "         ('poly_transformer', sklearn.preprocessing.PolynomialFeatures(degree=degree, include_bias=False)),\n",
    "         ('linear_regr', sklearn.linear_model.Ridge(alpha=alpha)),\n",
    "        ])\n",
    "\n",
    "    # Return the constructed pipeline\n",
    "    # We can treat it as if it has a 'regression' API\n",
    "    # e.g. a fit and a predict method\n",
    "    return pipeline"
   ]
  },
  {
   "cell_type": "markdown",
   "metadata": {},
   "source": [
    "## Method to inspect learned weights\n",
    "\n",
    "Use this function when asked to display learned parameters."
   ]
  },
  {
   "cell_type": "code",
   "execution_count": 182,
   "metadata": {},
   "outputs": [],
   "source": [
    "def pretty_print_learned_weights(pipeline, xcolnames_F):\n",
    "    ''' Print the learned parameters of given pipeline\n",
    "    '''\n",
    "    my_lin_regr = pipeline.named_steps['linear_regr']\n",
    "\n",
    "    feat_names = pipeline.named_steps['poly_transformer'].get_feature_names_out()\n",
    "    coef_values = my_lin_regr.coef_\n",
    "\n",
    "    for feat, coef in zip(feat_names, coef_values):\n",
    "        print(\"% 7.2f : %s\" % (coef, feat))\n",
    "    \n",
    "    print(\"where \")\n",
    "    for ff, colname in enumerate(xcolnames_F):\n",
    "        print(\"x%d = %s\" % (ff, colname))"
   ]
  },
  {
   "cell_type": "markdown",
   "metadata": {},
   "source": [
    "# Analysis\n",
    "\n",
    "The rest of this notebook is an analysis and report of the automobile dataset. Some of the steps of the analysis have already been completed for you. You need to complete the indicated sections in problems 1-3."
   ]
  },
  {
   "cell_type": "markdown",
   "metadata": {},
   "source": [
    "# Load the dataset\n",
    "\n",
    "First, we need to load the predefined 'x' and 'y' arrays for train/valid/test sets using the predefined helper function. "
   ]
  },
  {
   "cell_type": "code",
   "execution_count": 183,
   "metadata": {},
   "outputs": [],
   "source": [
    "x_tr_MF, xcolnames_F = load_2d_arr_from_csv('x_train.csv', include_header=True)\n",
    "x_va_NF = load_2d_arr_from_csv('x_valid.csv')\n",
    "x_te_PF = load_2d_arr_from_csv('x_test.csv')"
   ]
  },
  {
   "cell_type": "code",
   "execution_count": 184,
   "metadata": {},
   "outputs": [],
   "source": [
    "y_tr_M = load_1d_arr_from_csv('y_train.csv')\n",
    "y_va_N = load_1d_arr_from_csv('y_valid.csv')\n",
    "y_te_P = load_1d_arr_from_csv('y_test.csv')"
   ]
  },
  {
   "cell_type": "markdown",
   "metadata": {},
   "source": [
    "We can then take at various parts of our training data. "
   ]
  },
  {
   "cell_type": "code",
   "execution_count": 185,
   "metadata": {},
   "outputs": [
    {
     "name": "stdout",
     "output_type": "stream",
     "text": [
      "Feature Names: ['horsepower', 'weight', 'cylinders', 'displacement']\n",
      "Training data features:\n",
      " [[ 115. 2595.    6.  173.]\n",
      " [ 180. 4380.    8.  350.]\n",
      " [ 150. 4457.    8.  318.]\n",
      " [ 105. 3897.    6.  250.]\n",
      " [ 193. 4732.    8.  304.]]\n",
      "Training data MPGs:\n",
      " [[28.8]\n",
      " [16.5]\n",
      " [14. ]\n",
      " [16. ]\n",
      " [ 9. ]]\n"
     ]
    }
   ],
   "source": [
    "# Feature names\n",
    "print(\"Feature Names:\", xcolnames_F) \n",
    "\n",
    "# First 5 instances in our training data\n",
    "print(\"Training data features:\\n\", x_tr_MF[:5])\n",
    "\n",
    "# MPG for the first 5 instances\n",
    "print(\"Training data MPGs:\\n\", y_tr_M[:5,np.newaxis])"
   ]
  },
  {
   "cell_type": "markdown",
   "metadata": {},
   "source": [
    "Also, we need to set a `Y_MAX` variable so that the sanatize function works. "
   ]
  },
  {
   "cell_type": "code",
   "execution_count": 186,
   "metadata": {},
   "outputs": [
    {
     "data": {
      "text/plain": [
       "np.float64(46.6)"
      ]
     },
     "execution_count": 186,
     "metadata": {},
     "output_type": "execute_result"
    }
   ],
   "source": [
    "# Highest MPG in the training data\n",
    "y_tr_M.max()"
   ]
  },
  {
   "cell_type": "code",
   "execution_count": 187,
   "metadata": {},
   "outputs": [],
   "source": [
    "Y_MAX = y_tr_M.max()*1.2"
   ]
  },
  {
   "cell_type": "markdown",
   "metadata": {},
   "source": [
    "## Load completed code"
   ]
  },
  {
   "cell_type": "markdown",
   "metadata": {},
   "source": [
    "Now we load in the code you wrote in part of of the homework. "
   ]
  },
  {
   "cell_type": "code",
   "execution_count": 210,
   "metadata": {},
   "outputs": [],
   "source": [
    "from performance_metrics import calc_root_mean_squared_error\n",
    "from cross_validation import train_models_and_calc_scores_for_n_fold_cv"
   ]
  },
  {
   "cell_type": "markdown",
   "metadata": {},
   "source": [
    "# Problem 1: Polynomial Degree Selection on Fixed Validation Set\n",
    "\n",
    "**Implementation Step 1A:**\n",
    "\n",
    "Fit a linear regression model to a polynomial feature transformation of the provided training set at each of these possible degrees: [1, 2, 3, 4, 5, 6, 7]. For each hyperparameter setting, record the training set error and the validation set error in terms of RMSE."
   ]
  },
  {
   "cell_type": "code",
   "execution_count": 189,
   "metadata": {},
   "outputs": [],
   "source": [
    "degree_list = [1, 2, 3, 4, 5, 6, 7]\n",
    "fv_err_tr_list = []\n",
    "fv_err_va_list = []\n",
    "\n",
    "fv_pipeline_list = []\n",
    "for degree in degree_list:\n",
    "\n",
    "    # TODO create a pipeline using features with current degree value\n",
    "    pipeline = make_poly_linear_regr_pipeline(degree=degree)\n",
    "    # TODO train this pipeline on provided training data\n",
    "    pipeline.fit(x_tr_MF, y_tr_M)\n",
    "    # Compute training error\n",
    "    yhat_tr_M = sanitize(pipeline.predict(x_tr_MF))\n",
    "    yhat_va_N = sanitize(pipeline.predict(x_va_NF))\n",
    "\n",
    "    err_tr = calc_root_mean_squared_error(y_tr_M, yhat_tr_M)\n",
    "    err_va = calc_root_mean_squared_error(y_va_N, yhat_va_N)\n",
    "\n",
    "    fv_err_tr_list.append(err_tr)\n",
    "    fv_err_va_list.append(err_va)\n",
    "    \n",
    "    fv_pipeline_list.append(pipeline)"
   ]
  },
  {
   "cell_type": "markdown",
   "metadata": {},
   "source": [
    "### Implementation 1B: Score on the test set using the chosen model\n",
    "\n",
    "Select the model hyperparameters that *minimize* your fixed validation set error. Using your already-trained LinearRegression model with these best hyperparameters, compute error on the *test* set. Save this test set error value for later."
   ]
  },
  {
   "cell_type": "code",
   "execution_count": 190,
   "metadata": {},
   "outputs": [],
   "source": [
    "min_index = fv_err_va_list.index(min(fv_err_va_list))\n",
    "min_Param = degree_list[min_index]\n",
    "\n",
    "fv_pipeline = fv_pipeline_list[min_index]\n",
    "\n",
    "yhat_te_PF = sanitize(fv_pipeline.predict(x_te_PF))\n",
    "\n",
    "fv_error = calc_root_mean_squared_error(y_te_P, yhat_te_PF)"
   ]
  },
  {
   "cell_type": "code",
   "execution_count": 191,
   "metadata": {},
   "outputs": [
    {
     "name": "stdout",
     "output_type": "stream",
     "text": [
      "Selected Parameters:\n",
      "2\n",
      "Fixed validation set estimate of heldout error:\n",
      "3.9740753307545353\n",
      "Error on the test-set:\n",
      "3.991502546456764\n"
     ]
    }
   ],
   "source": [
    "print(\"Selected Parameters:\")\n",
    "print(min_Param)\n",
    "print(\"Fixed validation set estimate of heldout error:\")\n",
    "print(fv_err_va_list[min_index])\n",
    "print(\"Error on the test-set:\")\n",
    "print(fv_error)"
   ]
  },
  {
   "cell_type": "code",
   "execution_count": 192,
   "metadata": {},
   "outputs": [],
   "source": [
    "min_err_tr = fv_err_tr_list[minParam-1]"
   ]
  },
  {
   "cell_type": "markdown",
   "metadata": {},
   "source": [
    "### Figure 1: Error vs degree\n",
    "\n",
    "Once `fv_err_tr_list` and `fv_err_va_list` contain values from part 1A, you can re-run the plotting cell to generate figure 1 with the values you found. "
   ]
  },
  {
   "cell_type": "code",
   "execution_count": 193,
   "metadata": {},
   "outputs": [
    {
     "data": {
      "image/png": "[encoded data removed]",
      "text/plain": [
       "<Figure size 640x480 with 1 Axes>"
      ]
     },
     "metadata": {},
     "output_type": "display_data"
    }
   ],
   "source": [
    "plot_train_and_valid_error_vs_hyper(\n",
    "    degree_list, fv_err_tr_list, fv_err_va_list, leg_loc='upper left');\n",
    "plt.title('RMSE vs. Degree');"
   ]
  },
  {
   "cell_type": "markdown",
   "metadata": {},
   "source": [
    "#### Figure 1: RMSE vs. Degree\n",
    "\n",
    "*Provide a 2 sentence caption answering the questions: How do validation and training error change as degree increases? What degree do you recommend based on this plot?*"
   ]
  },
  {
   "cell_type": "markdown",
   "metadata": {},
   "source": [
    "As the degree increases, the RMSE for the training set decreases, where the RMSE of the validation set rapidly increases. I thus recommend polynomial degree 2, since that had the lowest validation set RMSE."
   ]
  },
  {
   "cell_type": "markdown",
   "metadata": {},
   "source": [
    "#### Short Answer 1A\n",
    "\n",
    "The starter code pipelines include a *preprocessing* step that rescales each feature column to be in the unit interval from 0 to 1. \n",
    "Why is this necessary for this particular dataset?\n",
    "What happens (in terms of both training error and test error) if this step is omitted?\n",
    "*Hint: Try removing this step and see.*"
   ]
  },
  {
   "cell_type": "markdown",
   "metadata": {},
   "source": [
    "Features need to be rescaled since the different features are within different ranges. As this is a dataset of vehicles, the miles-per-gallon is generally going to be within the 0-30 range, yet the weight in lbs of a truck could be up to 6000. With such varying degrees of magnitude, features must be scaled to a unit interval."
   ]
  },
  {
   "cell_type": "markdown",
   "metadata": {},
   "source": [
    "#### Short Answer 1B\n",
    "\n",
    "Consider the model with degree 1. \n",
    "Following the starter code, print out the values of **all** the learned weight parameters (aka coefficients).\n",
    "From these values, which feature has the highest positive impact on MPG? Which has the highest negative impact? Do these make sense?"
   ]
  },
  {
   "cell_type": "code",
   "execution_count": 194,
   "metadata": {},
   "outputs": [
    {
     "name": "stdout",
     "output_type": "stream",
     "text": [
      " -10.43 : x0\n",
      " -18.23 : x1\n",
      "  -1.15 : x2\n",
      "   0.58 : x3\n",
      "where \n",
      "x0 = horsepower\n",
      "x1 = weight\n",
      "x2 = cylinders\n",
      "x3 = displacement\n"
     ]
    }
   ],
   "source": [
    "# TODO call pretty_print_learned_weights on your pipeline with degree=1 from above\n",
    "pretty_print_learned_weights(fv_pipeline_list[0], xcolnames_F)\n",
    "# Hint: The names of the original F=4 features are already in your workspace\n",
    "#print(xcolnames_F)"
   ]
  },
  {
   "cell_type": "markdown",
   "metadata": {},
   "source": [
    "Displacement has the highest impact on MPG, weight has the lowest impact on MPG–This makes sense since displacement most likely does not have a big positive nor negative effect on MPG, yet a higher displacement car (more power) could feasibly have more mpg. On the other hand, a heavier car would undoubtedly use more fuel than a lighter car, and is why heavier cars have on average less mpg (negative impact)."
   ]
  },
  {
   "cell_type": "markdown",
   "metadata": {},
   "source": [
    "# Problem 2: Alpha Selection on Fixed Val Set\n",
    "\n",
    "#### Implementation Step 2A \n",
    "\n",
    "Fix the degree at 4. Consider the below possible `alpha` values for L2-penalized linear regression, aka `Ridge`.\n",
    "\n",
    "Fit a L2-penalized linear regression pipeline for each alpha value above, then record that model's training set error and the validation set error."
   ]
  },
  {
   "cell_type": "code",
   "execution_count": 195,
   "metadata": {},
   "outputs": [
    {
     "name": "stdout",
     "output_type": "stream",
     "text": [
      "[1.e-10 1.e-08 1.e-06 1.e-04 1.e-02 1.e+00 1.e+02 1.e+04 1.e+06]\n"
     ]
    }
   ],
   "source": [
    "my_degree = 4\n",
    "alpha_list = np.asarray([1.e-10, 1.e-08, 1.e-06, 1.e-04, 1.e-02, 1.e+00, 1.e+02, 1.e+04, 1.e+06])\n",
    "print(alpha_list)"
   ]
  },
  {
   "cell_type": "code",
   "execution_count": 196,
   "metadata": {},
   "outputs": [],
   "source": [
    "fv2_err_tr_list = []\n",
    "fv2_err_va_list = []\n",
    "fv2_pipeline_list = []\n",
    "\n",
    "for alpha in alpha_list:\n",
    "\n",
    "    # TODO create a pipeline using features with current degree value\n",
    "    pipeline = make_poly_ridge_regr_pipeline(degree=4, alpha=alpha)\n",
    "    # TODO train this pipeline on provided training data\n",
    "    pipeline.fit(x_tr_MF, y_tr_M)\n",
    "\n",
    "    yhat_tr_M = sanitize(pipeline.predict(x_tr_MF))\n",
    "    yhat_va_N = sanitize(pipeline.predict(x_va_NF))\n",
    "    assert np.all(yhat_va_N >= 0.0)\n",
    "    assert np.all(yhat_va_N <= Y_MAX)\n",
    "    \n",
    "    err_tr = calc_root_mean_squared_error(y_tr_M, yhat_tr_M)\n",
    "    err_va = calc_root_mean_squared_error(y_va_N, yhat_va_N)\n",
    "\n",
    "    fv2_err_tr_list.append(err_tr)\n",
    "    fv2_err_va_list.append(err_va)\n",
    "\n",
    "    fv2_pipeline_list.append(pipeline)"
   ]
  },
  {
   "cell_type": "markdown",
   "metadata": {},
   "source": [
    "### Figure 2 in report\n",
    "\n",
    "Make a line plot of mean-squared error on y-axis vs. alpha on x-axis."
   ]
  },
  {
   "cell_type": "code",
   "execution_count": 197,
   "metadata": {},
   "outputs": [
    {
     "data": {
      "image/png": "[encoded data removed]",
      "text/plain": [
       "<Figure size 640x480 with 1 Axes>"
      ]
     },
     "metadata": {},
     "output_type": "display_data"
    }
   ],
   "source": [
    "plot_train_and_valid_error_vs_hyper(\n",
    "    alpha_list, fv2_err_tr_list, fv2_err_va_list,\n",
    "    xlabel='alpha (L2 penalty)', leg_loc='upper left');\n",
    "plt.gca().set_ylim([0, 10]);\n",
    "plt.gca().set_xscale('log');\n",
    "plt.title('Error vs. Alpha');"
   ]
  },
  {
   "cell_type": "markdown",
   "metadata": {},
   "source": [
    "#### Figure 2: Error vs. Alpha\n",
    "\n",
    "Provide a 2 sentence caption answering the questions: How do validation and training set RMSE change with alpha? Do any trends emerge?\n",
    "What alpha value do you recommend based on this plot?"
   ]
  },
  {
   "cell_type": "markdown",
   "metadata": {},
   "source": [
    "As alpha rises, the RMSE of the training set always increases–for the validation set, it follows a negative parabola, decreasing then increasing at a negative peak. I would recommend an alpha of 1.e-02, since that is where the validation set RMSE is lowest."
   ]
  },
  {
   "cell_type": "markdown",
   "metadata": {},
   "source": [
    "#### Implementation Step 2B\n",
    "\n",
    "Select the model hyperparameters that *minimize* your fixed validation set error. Using your already-trained model with these best hyperparameters, compute error on the *test* set. \n"
   ]
  },
  {
   "cell_type": "code",
   "execution_count": 198,
   "metadata": {},
   "outputs": [],
   "source": [
    "fv2_min_index = fv2_err_va_list.index(min(fv2_err_va_list))\n",
    "fv2_min_Param = alpha_list[fv2_min_index]\n",
    "fv2_pipeline = fv2_pipeline_list[fv2_min_index]\n",
    "\n",
    "fv2_yhat_te_PF = sanitize(fv2_pipeline.predict(x_te_PF))\n",
    "\n",
    "fv2_error = calc_root_mean_squared_error(y_te_P, fv2_yhat_te_PF)"
   ]
  },
  {
   "cell_type": "code",
   "execution_count": 199,
   "metadata": {},
   "outputs": [
    {
     "name": "stdout",
     "output_type": "stream",
     "text": [
      "Selected Parameters:\n",
      "0.01\n",
      "Fixed validation set estimate of heldout error:\n",
      "3.9313878334812444\n",
      "Error on the test-set:\n",
      "3.877667860403773\n"
     ]
    }
   ],
   "source": [
    "print(\"Selected Parameters:\")\n",
    "print(fv2_min_Param)\n",
    "print(\"Fixed validation set estimate of heldout error:\")\n",
    "print(fv2_err_va_list[fv2_min_index])\n",
    "print(\"Error on the test-set:\")\n",
    "print(fv2_error)"
   ]
  },
  {
   "cell_type": "code",
   "execution_count": 200,
   "metadata": {},
   "outputs": [
    {
     "name": "stdout",
     "output_type": "stream",
     "text": [
      " -39.88 : x0\n",
      "   1.56 : x1\n",
      "  14.71 : x2\n",
      " -13.32 : x3\n",
      "  -6.53 : x0^2\n",
      "  -5.93 : x0 x1\n",
      "  21.96 : x0 x2\n",
      "  24.36 : x0 x3\n",
      " -22.82 : x1^2\n",
      "   2.39 : x1 x2\n",
      "  -2.18 : x1 x3\n",
      " -19.42 : x2^2\n",
      " -26.81 : x2 x3\n",
      "   3.47 : x3^2\n",
      "   9.93 : x0^3\n",
      "   5.41 : x0^2 x1\n",
      "   9.37 : x0^2 x2\n",
      "  14.07 : x0^2 x3\n",
      "   8.22 : x0 x1^2\n",
      "   7.41 : x0 x1 x2\n",
      "  12.85 : x0 x1 x3\n",
      "   0.12 : x0 x2^2\n",
      "  -1.49 : x0 x2 x3\n",
      "   0.97 : x0 x3^2\n",
      "  -5.93 : x1^3\n",
      "  -2.12 : x1^2 x2\n",
      "  -2.79 : x1^2 x3\n",
      "   0.19 : x1 x2^2\n",
      "  -2.80 : x1 x2 x3\n",
      "  -0.49 : x1 x3^2\n",
      "  -4.76 : x2^3\n",
      "  -3.17 : x2^2 x3\n",
      "   3.10 : x2 x3^2\n",
      "   5.33 : x3^3\n",
      "   5.15 : x0^4\n",
      "  -4.71 : x0^3 x1\n",
      "  -1.87 : x0^3 x2\n",
      "   5.64 : x0^3 x3\n",
      "  -2.97 : x0^2 x1^2\n",
      "  -5.04 : x0^2 x1 x2\n",
      "   1.79 : x0^2 x1 x3\n",
      " -10.96 : x0^2 x2^2\n",
      "  -4.93 : x0^2 x2 x3\n",
      "  -3.79 : x0^2 x3^2\n",
      "   4.44 : x0 x1^3\n",
      "   2.40 : x0 x1^2 x2\n",
      "   5.23 : x0 x1^2 x3\n",
      "  -4.37 : x0 x1 x2^2\n",
      "  -0.25 : x0 x1 x2 x3\n",
      "  -1.68 : x0 x1 x3^2\n",
      " -16.61 : x0 x2^3\n",
      " -11.02 : x0 x2^2 x3\n",
      " -10.19 : x0 x2 x3^2\n",
      " -13.04 : x0 x3^3\n",
      "   2.39 : x1^4\n",
      "   3.05 : x1^3 x2\n",
      "   0.24 : x1^3 x3\n",
      "   2.79 : x1^2 x2^2\n",
      "   1.78 : x1^2 x2 x3\n",
      "  -2.91 : x1^2 x3^2\n",
      "   4.22 : x1 x2^3\n",
      "   6.13 : x1 x2^2 x3\n",
      "   2.56 : x1 x2 x3^2\n",
      "  -4.81 : x1 x3^3\n",
      "  12.25 : x2^4\n",
      "  17.03 : x2^3 x3\n",
      "  14.30 : x2^2 x3^2\n",
      "   6.02 : x2 x3^3\n",
      "  -4.64 : x3^4\n",
      "where \n",
      "x0 = horsepower\n",
      "x1 = weight\n",
      "x2 = cylinders\n",
      "x3 = displacement\n"
     ]
    }
   ],
   "source": [
    "pretty_print_learned_weights(fv2_pipeline_list[fv2_min_index], xcolnames_F)"
   ]
  },
  {
   "cell_type": "markdown",
   "metadata": {},
   "source": [
    "#### Short Answer 2a\n",
    "\n",
    "Inspect the learned weight parameters of your chosen degree-4 ridge regression model.\n",
    "How do their relative magnitudes compare to those you printed in 1b above?"
   ]
  },
  {
   "cell_type": "markdown",
   "metadata": {},
   "source": [
    "There are many more parameters in this model than that shown in 1b–In this model, and the values are much larger. "
   ]
  },
  {
   "cell_type": "markdown",
   "metadata": {},
   "source": [
    "#### Short Answer 2b in Report\n",
    "\n",
    "Your colleague suggests that you can determine the regularization strength `alpha` by minimizing the following loss on the *training* set:\n",
    "\n",
    "$$\n",
    "\\text{min}_{w \\in \\mathbb{R}^F, b \\in \\mathbb{R}, \\alpha \\ge 0}\n",
    "\\quad \\sum_{n=1}^N (y_n - \\hat{y}(x_n, w, b))^2 + \\alpha \\sum_{f=1}^F w_f^2\n",
    "$$\n",
    "\n",
    "What value of $\\alpha$ would you pick if you did this? Why is this problematic if your goal is to generalize to new data well?\n",
    "\n",
    "*Hint: Which value of $\\alpha$ would minimize this loss function?*"
   ]
  },
  {
   "cell_type": "markdown",
   "metadata": {},
   "source": [
    "$\\alpha$ would be minimized at a value of 0–This is problematic since it eliminates the regularization from the formula, and risks overfitting to the training set.  "
   ]
  },
  {
   "cell_type": "markdown",
   "metadata": {},
   "source": [
    "# Data preprocessing for Problem 3"
   ]
  },
  {
   "cell_type": "markdown",
   "metadata": {},
   "source": [
    "For this problem, you'll again use the provided training set and validation sets. However, you'll *merge* these into a large \"development\" set that contains 292 examples total."
   ]
  },
  {
   "cell_type": "code",
   "execution_count": 201,
   "metadata": {},
   "outputs": [
    {
     "name": "stdout",
     "output_type": "stream",
     "text": [
      "(292, 4)\n"
     ]
    }
   ],
   "source": [
    "x_trva_LF = np.vstack([x_tr_MF, x_va_NF])\n",
    "y_trva_L = np.hstack([y_tr_M, y_va_N])\n",
    "\n",
    "print(x_trva_LF.shape)"
   ]
  },
  {
   "cell_type": "markdown",
   "metadata": {},
   "source": [
    "# Problem 3: Cross Validation for Polynomial Feature Regression"
   ]
  },
  {
   "cell_type": "markdown",
   "metadata": {},
   "source": [
    "### Implementation step 3A\n",
    "\n",
    "For each possible `alpha` value as well as each possible polynomial degree, train and evaluate a `Ridge` regression model across the entire train+validation set using 10-fold cross validation. Use the CV methods you implemented in `cross_validation.py`. For each possible hyperparameter (alpha value and degree value), your 10-fold CV procedure will give you an estimate of the training error and heldout validation error (averaged across all folds). \n"
   ]
  },
  {
   "cell_type": "code",
   "execution_count": 211,
   "metadata": {},
   "outputs": [],
   "source": [
    "K = 10 # num folds of CV\n",
    "degree_list = [1, 2, 3, 4, 5, 6, 7]\n",
    "alpha_list = np.logspace(-10, 6, 17)\n",
    "\n",
    "ridge_param_list = []\n",
    "for alpha in alpha_list:\n",
    "    for degree in degree_list:\n",
    "        ridge_param_list.append(dict(degree=degree, alpha=alpha))\n",
    "        \n",
    "cv_train_err_list = []\n",
    "cv_valid_err_list = []\n",
    "for param in ridge_param_list:\n",
    "    pipeline = make_poly_ridge_regr_pipeline(param[\"degree\"], param[\"alpha\"])\n",
    "    \n",
    "    # TODO call your function to train a separate model for each fold and return train and valid errors\n",
    "    # Don't forget to pass random_state = SEED (where SEED is defined above) so its reproducible\n",
    "    tr_error_K, valid_error_K = train_models_and_calc_scores_for_n_fold_cv(estimator=pipeline,\n",
    "    x_NF=x_trva_LF, y_N=y_trva_L, n_folds=K, random_state=SEED)\n",
    "\n",
    "    err_tr = np.mean(tr_error_K)\n",
    "    err_va = np.mean(valid_error_K)\n",
    "    \n",
    "    cv_train_err_list.append(err_tr)\n",
    "    cv_valid_err_list.append(err_va)"
   ]
  },
  {
   "cell_type": "markdown",
   "metadata": {},
   "source": [
    "### Implementation step 3B\n",
    "\n",
    "Select the model hyperparameters that *minimize* your estimated cross-validation error. Using these best hyperparameters, retrain the model using the full development set (concatenating the predefined training and validation sets). Then compute that (retrained) model's error on the test set.\n",
    "\n",
    "Save this test set error value for later."
   ]
  },
  {
   "cell_type": "code",
   "execution_count": 203,
   "metadata": {},
   "outputs": [],
   "source": [
    "ridge_min_index = cv_valid_err_list.index(min(cv_valid_err_list))\n",
    "ridge_min_Param = ridge_param_list[ridge_min_index]\n",
    "\n",
    "ridge_pipeline = make_poly_ridge_regr_pipeline(ridge_min_Param['degree'], ridge_min_Param['alpha'])\n",
    "ridge_pipeline.fit(x_trva_LF, y_trva_L)\n",
    "ridge_yhat_te_PF = sanitize(ridge_pipeline.predict(x_te_PF))\n",
    "\n",
    "ridge_error = calc_root_mean_squared_error(y_te_P, ridge_yhat_te_PF)"
   ]
  },
  {
   "cell_type": "code",
   "execution_count": 204,
   "metadata": {},
   "outputs": [
    {
     "name": "stdout",
     "output_type": "stream",
     "text": [
      "Selected Parameters:\n",
      "degree:  1\n",
      "alpha:  1e-10\n",
      "10-fold CV estimate of heldout error:\n",
      "0.0\n",
      "Error on the test-set:\n",
      "4.148231945864096\n"
     ]
    }
   ],
   "source": [
    "print(\"Selected Parameters:\")\n",
    "print(\"degree: \", ridge_min_Param['degree'])\n",
    "print(\"alpha: \", ridge_min_Param['alpha'])\n",
    "print(\"10-fold CV estimate of heldout error:\")\n",
    "print(min(cv_valid_err_list))\n",
    "print(\"Error on the test-set:\")\n",
    "print(ridge_error)"
   ]
  },
  {
   "cell_type": "markdown",
   "metadata": {},
   "source": [
    " Not exactly sure why the error on this last function is a bit messed up."
   ]
  },
  {
   "cell_type": "markdown",
   "metadata": {},
   "source": []
  },
  {
   "cell_type": "markdown",
   "metadata": {},
   "source": [
    "### Table 3: Comparing Pipelines on the test set\n",
    "\n",
    "In one neat table, please compare the *test set* root-mean-squared-error (RMSE) performance for the following regressors:\n",
    "\n",
    "* Baseline: A predictor that always guesses the *mean* $y$ value of the training set, regardless of the new test input\n",
    "* The best Poly+Linear pipeline, picking degree to minimize val set error (from 1B)\n",
    "* The best Poly+Ridge pipeline, fixing degree=4 and picking alpha to minimize val set error (from 2B)\n",
    "* The best Poly+Ridge pipeline, picking degree and alpha to minimize 10-fold cross validation error (from 3B)"
   ]
  },
  {
   "cell_type": "code",
   "execution_count": 205,
   "metadata": {},
   "outputs": [
    {
     "name": "stdout",
     "output_type": "stream",
     "text": [
      "3.734676616518151\n",
      "3.6160483982196947\n",
      "0.0\n"
     ]
    }
   ],
   "source": [
    "print(fv_err_tr_list[min_index])\n",
    "print(fv2_err_tr_list[fv2_min_index])\n",
    "print(min(cv_train_err_list))"
   ]
  },
  {
   "cell_type": "markdown",
   "metadata": {},
   "source": [
    "TODO make a table in your report using the saved values from 1B, 2B and 3B above. You can fill in the below Markdown table. \n",
    "\n",
    "| Name                          | Hyperparameter Value(s)     | Test RMSE | Train RMSE |\n",
    "|-------------------------------|-----------------------------|-----------|------------|\n",
    "|      Baseline mean prediction | None                        | 7.104481090304907      | 8.231074409668523       |\n",
    "|      Poly+Linear pipeine (1B) | Degree = 2               | 3.991502546456764     | 3.734676616518151       |\n",
    "|  Poly+Ridge Alpha Search (2B) | Degree = 4, Alpha = 0.01    | 3.877667860403773      | 3.6160483982196947      |\n",
    "| Poly + Ridge Grid Search (3B) | Degree = 1, Alpha = 0.1 | 4.148231945864096      | 0       |\n"
   ]
  },
  {
   "cell_type": "markdown",
   "metadata": {},
   "source": [
    "Table 3: \n",
    "*Provide a 2-4 sentence caption answering the question: \n",
    "What pipeline in Table 3 performed best in terms of heldout error, and why do you thik that pipeline performed the best? \n",
    "What pipeline in Table 3 performed worst in terms of heldout error, and why do you thik that pipeline performed the worst?*"
   ]
  },
  {
   "cell_type": "markdown",
   "metadata": {},
   "source": [
    "I was unfortunately not able to get the Poly Ridge Grid Search to work as intended, yet I would suspect that pipeline would perform the best in heldout error. This pipeline was the result of optimizing hundreds of permutations of different degrees, alpha values, and 10-fold sampling to get an incredibly tweaked pipeline, and would make sense to perform the best. The baseline mean prediction performed the worst simply since it is a mean–it always predicts one value no matter the different factors. It does not describe the data it different points."
   ]
  },
  {
   "cell_type": "markdown",
   "metadata": {},
   "source": [
    "## Reflection\n",
    "Please fill in the following information about your HW1 solution.\n",
    "\n",
    "How many hours did HW1 take you? 12\n",
    "\n",
    "Did you use any resources outside of class materials and official documentation, such as StackOverflow threads or ChatGPT? If so, please list such resources below: \n",
    "I used StackOverflow to check the syntax of a few rudimentary python functions–array indexing, min(), .index(), etc. "
   ]
  },
  {
   "cell_type": "markdown",
   "metadata": {},
   "source": []
  }
 ],
 "metadata": {
  "kernelspec": {
   "display_name": "Python 3 (ipykernel)",
   "language": "python",
   "name": "python3"
  },
  "language_info": {
   "codemirror_mode": {
    "name": "ipython",
    "version": 3
   },
   "file_extension": ".py",
   "mimetype": "text/x-python",
   "name": "python",
   "nbconvert_exporter": "python",
   "pygments_lexer": "ipython3",
   "version": "3.9.6"
  },
  "vscode": {
   "interpreter": {
    "hash": "31f2aee4e71d21fbe5cf8b01ff0e069b9275f58929596ceb00d14d90e3e16cd6"
   }
  }
 },
 "nbformat": 4,
 "nbformat_minor": 4
}
